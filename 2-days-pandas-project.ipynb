{
 "cells": [
  {
   "cell_type": "code",
   "execution_count": 2,
   "id": "57cf5b83",
   "metadata": {},
   "outputs": [
    {
     "name": "stdout",
     "output_type": "stream",
     "text": [
      "The jupyter_black extension is already loaded. To reload it, use:\n",
      "  %reload_ext jupyter_black\n"
     ]
    }
   ],
   "source": [
    "%load_ext jupyter_black"
   ]
  },
  {
   "cell_type": "code",
   "execution_count": 1,
   "id": "8a935240",
   "metadata": {},
   "outputs": [
    {
     "data": {
      "text/html": [
       "<style>.container { width:90% !important; }</style>"
      ],
      "text/plain": [
       "<IPython.core.display.HTML object>"
      ]
     },
     "metadata": {},
     "output_type": "display_data"
    }
   ],
   "source": [
    "from IPython.display import display, HTML\n",
    "\n",
    "display(HTML(\"<style>.container { width:90% !important; }</style>\"))"
   ]
  },
  {
   "cell_type": "code",
   "execution_count": 2,
   "id": "b0900618",
   "metadata": {},
   "outputs": [],
   "source": [
    "import pandas as pd\n",
    "\n",
    "pd.set_option(\"display.max_columns\", 500)"
   ]
  },
  {
   "cell_type": "markdown",
   "id": "bb100f19",
   "metadata": {},
   "source": [
    "## 0.1 python env setup\n",
    "1. create new project on pycharm.\n",
    "1. setup virtualenv or anaconda controled python environment.\n",
    "1. install pandas and seaborn to the new environment.\n",
    "1. install black for formating. \n",
    "\n",
    "## 0.2 project structure\n",
    "1. create data folder\n",
    "1. add data to the folder\n",
    "\n",
    "\n",
    "## 0.3 version control\n",
    "1. create new git repo\n",
    "1. add .gitignore file\n",
    "1. add readme.md and describe the project goal\n",
    "1. make first commit \n",
    "\n",
    "## 0.4 jupyter setup\n",
    "2. enable black for jupyter. There are several options - find the one that works. `https://black.readthedocs.io/en/stable/getting_started.html`\n",
    "2. change cell jupyter cell options to fill 90% of the page widht. `\n",
    "https://stackoverflow.com/questions/21971449/how-do-i-increase-the-cell-width-of-the-jupyter-ipython-notebook-in-my-browser\n",
    "`\n",
    "\n",
    "## 0.5 pandas setup\n",
    "3. change pandas options to display 50 columns.\n",
    "`https://stackoverflow.com/questions/11707586/how-do-i-expand-the-output-display-to-see-more-columns-of-a-pandas-dataframe`\n",
    "\n",
    "\n",
    "## 1 review and handling data\n",
    "1. load data. \n",
    "1. sample 5 rows. \n",
    "    1. review values\n",
    "    2. review column names\n",
    "        3. find column names descriptions `https://www.kaggle.com/datasets/pavlofesenko/titanic-extended`\n",
    "1. review each column\n",
    "    1. check nan values\n",
    "    2. check column type\n",
    "1. drop small value columns. \n",
    "    1. PassengerId\n",
    "    2. Body\n",
    "2. rename column names according python variable naming convention `https://stackoverflow.com/questions/159720/what-is-the-naming-convention-in-python-for-variable-and-function`\n",
    "3. count column survived values, include nan values into the output. \n",
    "3. create a new dataset that holds non-null values Survived columns.\n",
    "3. reset new dataset index, use attribute `drop=True`\n",
    "1. review each column of new dataset\n",
    "    1. check nan values\n",
    "    2. check column type\n",
    "1. fill nan values. \n",
    "    1. age - fill in using median value of age and pclass group.\n",
    "    2. cabin\n",
    "        1. option 1 [easy]: sample from existing cabins random cabin and assign to a class groups. \n",
    "        1. option 2 [hard]: check cabin naming convention with respect to a class. Create new cabin numbers. Assign randomly for class groups.  **[additional]**\n",
    "    3. do we need to fill nan in lifeboat? \n",
    "        4. if yes fill na, else create a value indicating that a passenged did not use a boat. \n",
    "2. drop rest of the rows that have at least one nan value.\n",
    "\n",
    "## 2 data transformations\n",
    "1. find and remove duplicates\n",
    "1. add a name to column index. name = \"features\".\n",
    "2. transform embarked column values to port names. Use map function and dictionary. \n",
    "5. compare column \"embarked\" and \"boarded\" values. Unify and drop \"boarded\" column. \n",
    "3. compare column \"age\" and \"age_wiki\" values. Unify and drop \"age_wiki\" column. \n",
    "4. compare column \"pclass\" and \"class\" values. Unify and drop \"class\" column. \n",
    "5. drop column \"wikiid\"\n",
    "3. use map function to extract town and country from Hometown column. Extracted values save as additional columns `df[\"home_town\"], df[\"home_country\"]`\n",
    "3. use map function to extract town and country from Hometown column. Extracted values save as additional columns `df[\"destition_town\"], df[\"destination_country\"]`\n",
    "4. create a column that indicates - is traveler coming home or emigrating. Column name \"travel_direction\"\n",
    "5. create dummy variables from column \"sex\".\n",
    "5. create column \"age_groups\" by puting age column values into bins. 0-12,12-18,18-25,25-35, 35-50,50-65,65+. Use pd.cut function. \n",
    "5. create column \"labeled_age_groups\" by puting age column values into bins. 0-12,12-18,18-25,25-35, 35-50,50-65,65+. Use pd.cut function. and create labels for every bin. \n",
    "6. create column \"fare_quantiles\" from column \"fare\". Use pd.qcut. Print out quantile edge values. \n",
    "\n",
    "## 3 string manipulation\n",
    "1. create column \"initials\" using column \"name\". Initials are `Mr., Mrs., etc.`. \n",
    "1. create column \"wiki_initials\" using column \"name_wiki\". Initials are `Mr., Mrs., etc.`. \n",
    "5. compare column \"initials\" and \"wiki_initials\" values. Unify and drop \"wiki_initials\" column. \n",
    "6. create column \"first_name\" using columns \"name\" and \"name_wiki\". If person has more than one name extract all names. \n",
    "6. create column \"last_name\" using columns \"name\" and \"name_wiki\".  If person has more than one surname extract all surnames. \n",
    "7. drop columns \"name\" and \"name_wiki\"\n",
    "\n",
    "## 4 EDA \n",
    "### Plot\n",
    "1. Plot column \"survived\" values as pie chart and bar plot. \n",
    "2. Plot \"sex\" column values.\n",
    "2. Split \"survived\" values by \"sex\". Plot survived values split by sex. \n",
    "2. create corsstab using columns \"survived\" and \"pclass\". \n",
    "2. Split \"survived\" values by \"pclass\". Plot survived values split by pclass. \n",
    "2. create crosstab using columns \"survived\" and keys \"pclass\" and \"sex\".\n",
    "2. Draw factorplot using seaboarn. sns.factorplot.\n",
    "2. draw survived plot with respect to \"age_groups\". \n",
    "2. draw survived plot with respect to \"labeled_age_groups\". \n",
    "2. draw survived plot with respect to \"fare_quantiles\". \n",
    "\n",
    "### Investigate groups\n",
    "1. Find top 5 most common names splitted by class. \n",
    "1. Find top 5 most common names splitted by class and sex. \n",
    "1. Find top 5 most common names splitted by class and age groups. \n",
    "2. Count passengers traveling home or emigrating. \n",
    "2. Count passengers by continents. \n",
    "2. Count passengers by countries. \n",
    "2. Count passengers by cities. \n",
    "3. plot survived column by countries. \n",
    "3. plot survived column by continents. \n",
    "3. what is the distribution of classes with respect to destination country/town? \n",
    "3. what is the distribution of classes with respect to embarked pord? \n"
   ]
  },
  {
   "cell_type": "code",
   "execution_count": null,
   "id": "3e79f503",
   "metadata": {},
   "outputs": [],
   "source": []
  }
 ],
 "metadata": {
  "kernelspec": {
   "display_name": "Python 3.10.8 64-bit",
   "language": "python",
   "name": "python3"
  },
  "language_info": {
   "codemirror_mode": {
    "name": "ipython",
    "version": 3
   },
   "file_extension": ".py",
   "mimetype": "text/x-python",
   "name": "python",
   "nbconvert_exporter": "python",
   "pygments_lexer": "ipython3",
   "version": "3.10.8"
  },
  "vscode": {
   "interpreter": {
    "hash": "aee8b7b246df8f9039afb4144a1f6fd8d2ca17a180786b69acc140d282b71a49"
   }
  }
 },
 "nbformat": 4,
 "nbformat_minor": 5
}
